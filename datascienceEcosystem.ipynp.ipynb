{
 "cells": [
  {
   "cell_type": "markdown",
   "id": "1aa2a1c4",
   "metadata": {},
   "source": [
    "# data science tools and ecosystem"
   ]
  },
  {
   "cell_type": "markdown",
   "id": "f4dbd1da",
   "metadata": {},
   "source": [
    "Data science tools and ecosystem are summarized"
   ]
  },
  {
   "cell_type": "markdown",
   "id": "9d1b32b5",
   "metadata": {},
   "source": [
    "__objectives__:\n",
    "[\"popular language for data science\",\"commnly used libraries\",\"data science tools\",\"arithmetic expression\"]\n"
   ]
  },
  {
   "cell_type": "markdown",
   "id": "a8dc2a6b",
   "metadata": {},
   "source": [
    "## auther\n",
    "aya elsadek"
   ]
  },
  {
   "cell_type": "markdown",
   "id": "521c237d",
   "metadata": {},
   "source": [
    "some of the popular languages that data scientist use are :\n",
    "[[1,\"python\"]\n",
    ",[2,\"sql\"]\n",
    ",[3,\"R\"]]"
   ]
  },
  {
   "attachments": {},
   "cell_type": "markdown",
   "id": "4e36e527",
   "metadata": {},
   "source": [
    "some of the commnly used libraies used by data scientist include :\n",
    "[[1,\"pandas],\n",
    "[2,numpy],\n",
    "[3,ggplot]]"
   ]
  },
  {
   "cell_type": "markdown",
   "id": "bea4f92e",
   "metadata": {},
   "source": [
    "|data science tools|\n",
    "------------------- ----\n",
    "|jupyter|\n",
    "|tanserflow|\n",
    "|R studio|\n"
   ]
  },
  {
   "cell_type": "markdown",
   "id": "caefea8c",
   "metadata": {},
   "source": [
    "### Below are a few exmple of evaluating arithmetic expressions in python :\n"
   ]
  },
  {
   "cell_type": "code",
   "execution_count": 1,
   "id": "57c46d49",
   "metadata": {},
   "outputs": [
    {
     "data": {
      "text/plain": [
       "17"
      ]
     },
     "execution_count": 1,
     "metadata": {},
     "output_type": "execute_result"
    }
   ],
   "source": [
    "#the result of (3*4)+5\n",
    "(3*4)+5"
   ]
  },
  {
   "cell_type": "code",
   "execution_count": 4,
   "id": "1ab61357",
   "metadata": {},
   "outputs": [],
   "source": [
    "#convert minuts to hours\n",
    "mins =200\n",
    "hrs=mins/60"
   ]
  }
 ],
 "metadata": {
  "celltoolbar": "Raw Cell Format",
  "kernelspec": {
   "display_name": "Python 3 (ipykernel)",
   "language": "python",
   "name": "python3"
  },
  "language_info": {
   "codemirror_mode": {
    "name": "ipython",
    "version": 3
   },
   "file_extension": ".py",
   "mimetype": "text/x-python",
   "name": "python",
   "nbconvert_exporter": "python",
   "pygments_lexer": "ipython3",
   "version": "3.11.3"
  }
 },
 "nbformat": 4,
 "nbformat_minor": 5
}
