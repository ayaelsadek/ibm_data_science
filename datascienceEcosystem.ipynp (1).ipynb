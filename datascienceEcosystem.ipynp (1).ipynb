{
 "cells": [
  {
   "cell_type": "markdown",
   "id": "5b83b006",
   "metadata": {},
   "source": [
    "# data Science Tools and Ecosystem"
   ]
  },
  {
   "cell_type": "markdown",
   "id": "9a03cb45",
   "metadata": {},
   "source": [
    "Data Science Tools and Ecosystem are summarized"
   ]
  },
  {
   "cell_type": "markdown",
   "id": "3ad2294a",
   "metadata": {},
   "source": [
    "__objectives__:\\\n",
    ".popular language for data science.\\\n",
    ".commnly used libraries.\\\n",
    ".data science tools.\\\n",
    ".arithmetic expressio.\n"
   ]
  },
  {
   "cell_type": "markdown",
   "id": "12aae6e9",
   "metadata": {},
   "source": [
    "## auther\n",
    "aya elsadek"
   ]
  },
  {
   "cell_type": "markdown",
   "id": "fd359986",
   "metadata": {},
   "source": [
    "some of the popular languages that data scientist use are :\\\n",
    "1.python.\\\n",
    "2.sql.\\\n",
    "3.R."
   ]
  },
  {
   "cell_type": "markdown",
   "id": "50e68055",
   "metadata": {},
   "source": [
    "some of the commnly used libraies used by data scientist include :\\\n",
    "1.pandas\\\n",
    "2.numpy\\\n",
    "3.ggplot"
   ]
  },
  {
   "cell_type": "markdown",
   "id": "cceb0c06",
   "metadata": {},
   "source": [
    "|data science tools|\n",
    "|------------------|\n",
    "|jupyter|\n",
    "|tanserflow|\n",
    "|R studio|\n"
   ]
  },
  {
   "cell_type": "markdown",
   "id": "e47fcdc1",
   "metadata": {},
   "source": [
    "### Below are a few exmple of evaluating arithmetic expressions in python :\n"
   ]
  },
  {
   "cell_type": "code",
   "execution_count": 5,
   "id": "709bb6c1",
   "metadata": {},
   "outputs": [
    {
     "data": {
      "text/plain": [
       "17"
      ]
     },
     "execution_count": 5,
     "metadata": {},
     "output_type": "execute_result"
    }
   ],
   "source": [
    "#the result of (3*4)+5\n",
    "(3*4)+5"
   ]
  },
  {
   "cell_type": "code",
   "execution_count": 7,
   "id": "b1bb5229",
   "metadata": {},
   "outputs": [
    {
     "name": "stdout",
     "output_type": "stream",
     "text": [
      "3.3333333333333335\n"
     ]
    }
   ],
   "source": [
    "#convert minuts to hours\n",
    "mins =200\n",
    "hrs=mins/60\n",
    "print(hrs)"
   ]
  },
  {
   "cell_type": "code",
   "execution_count": null,
   "id": "e7852a72",
   "metadata": {},
   "outputs": [],
   "source": []
  },
  {
   "cell_type": "code",
   "execution_count": null,
   "id": "a6198fed",
   "metadata": {},
   "outputs": [],
   "source": []
  },
  {
   "cell_type": "code",
   "execution_count": null,
   "id": "d1ed9b1e",
   "metadata": {},
   "outputs": [],
   "source": []
  },
  {
   "cell_type": "code",
   "execution_count": null,
   "id": "b81b65f5",
   "metadata": {},
   "outputs": [],
   "source": []
  }
 ],
 "metadata": {
  "celltoolbar": "Raw Cell Format",
  "kernelspec": {
   "display_name": "Python 3 (ipykernel)",
   "language": "python",
   "name": "python3"
  },
  "language_info": {
   "codemirror_mode": {
    "name": "ipython",
    "version": 3
   },
   "file_extension": ".py",
   "mimetype": "text/x-python",
   "name": "python",
   "nbconvert_exporter": "python",
   "pygments_lexer": "ipython3",
   "version": "3.11.3"
  }
 },
 "nbformat": 4,
 "nbformat_minor": 5
}
